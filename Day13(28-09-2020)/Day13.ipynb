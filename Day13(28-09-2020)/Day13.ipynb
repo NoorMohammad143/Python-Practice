{
 "cells": [
  {
   "cell_type": "code",
   "execution_count": 1,
   "metadata": {},
   "outputs": [
    {
     "name": "stdout",
     "output_type": "stream",
     "text": [
      "Enter arange:4\n",
      "Enter a value:1\n",
      "Enter a value:14\n",
      "Enter a value:43\n",
      "Enter a value:143\n",
      "[1, 14, 43, 143]\n"
     ]
    }
   ],
   "source": [
    "# Dynamic list creation\n",
    "# li=[] or li=list()\n",
    "# input:Enter a range:5\n",
    "#[1,2,34,67]\n",
    "li=[]\n",
    "n=int(input(\"Enter arange:\"))\n",
    "for i in range(n):\n",
    "    val=int(input(\"Enter a value:\"))\n",
    "    li.append(val)\n",
    "    \n",
    "    \n",
    "print(li)"
   ]
  },
  {
   "cell_type": "code",
   "execution_count": 2,
   "metadata": {},
   "outputs": [
    {
     "name": "stdout",
     "output_type": "stream",
     "text": [
      "[12, 34, 44, 2, 456, 232]\n",
      "780\n"
     ]
    }
   ],
   "source": [
    "li=[12,34,44,55,75,2,456,232]\n",
    "# output:[12,34,44,456,232]\n",
    "# print sum([12,34,44,456,232])\n",
    "eli=[]\n",
    "for val in li:\n",
    "    if val%2==0:\n",
    "        eli.append(val)\n",
    "print(eli)\n",
    "#sum=0\n",
    "#for i in eli:\n",
    "#      sm +=i\n",
    "#print(sm)\n",
    "print(sum(eli))\n",
    "        "
   ]
  },
  {
   "cell_type": "code",
   "execution_count": null,
   "metadata": {},
   "outputs": [],
   "source": []
  }
 ],
 "metadata": {
  "kernelspec": {
   "display_name": "Python 3",
   "language": "python",
   "name": "python3"
  },
  "language_info": {
   "codemirror_mode": {
    "name": "ipython",
    "version": 3
   },
   "file_extension": ".py",
   "mimetype": "text/x-python",
   "name": "python",
   "nbconvert_exporter": "python",
   "pygments_lexer": "ipython3",
   "version": "3.7.4"
  }
 },
 "nbformat": 4,
 "nbformat_minor": 4
}
