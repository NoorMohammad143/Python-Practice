{
 "cells": [
  {
   "cell_type": "code",
   "execution_count": null,
   "metadata": {},
   "outputs": [],
   "source": []
  },
  {
   "cell_type": "code",
   "execution_count": null,
   "metadata": {},
   "outputs": [],
   "source": [
    "with open(\"DataFiles/input1.txt\",\"r\") as fr:\n",
    "    r=fr.readlines()\n",
    "    for t in r:\n",
    "        y=t.split(\"\\n\")[0]\n",
    "        p=y.split()\n",
    "        ta=int(p[0])\n",
    "        ra=int(p[1])\n",
    "        for j in range(1,ra+1):\n",
    "            print(\"{} x {} = {}\".for,at(ta,j,ta*j)\n",
    "        print(end=\"\\n\")"
   ]
  },
  {
   "cell_type": "code",
   "execution_count": null,
   "metadata": {},
   "outputs": [],
   "source": [
    "with open(\"DataFiles/input1.txt\",\"r\") as fr:\n",
    "    r=fr.readlines()\n",
    "    for t in r:\n",
    "        y=t.split(\"\\n\")[0]\n",
    "        p=y.split()\n",
    "        ta=int(p[0])\n",
    "        ra=int(p[1])\n",
    "        m=\"\"\n",
    "        with open(\"DataFiles/Output1.txt\",\"w\") as fp:\n",
    "            for j in range(1,ra+1):\n",
    "                m=m+(\"{} x {} = {}\".for,at(ta,j,ta*j)+\"\\n\"\n",
    "            print(end=\"\\n\")"
   ]
  },
  {
   "cell_type": "code",
   "execution_count": null,
   "metadata": {},
   "outputs": [],
   "source": []
  },
  {
   "cell_type": "code",
   "execution_count": null,
   "metadata": {},
   "outputs": [],
   "source": []
  },
  {
   "cell_type": "code",
   "execution_count": null,
   "metadata": {},
   "outputs": [],
   "source": []
  },
  {
   "cell_type": "code",
   "execution_count": null,
   "metadata": {},
   "outputs": [],
   "source": []
  }
 ],
 "metadata": {
  "kernelspec": {
   "display_name": "Python 3",
   "language": "python",
   "name": "python3"
  },
  "language_info": {
   "codemirror_mode": {
    "name": "ipython",
    "version": 3
   },
   "file_extension": ".py",
   "mimetype": "text/x-python",
   "name": "python",
   "nbconvert_exporter": "python",
   "pygments_lexer": "ipython3",
   "version": "3.7.4"
  }
 },
 "nbformat": 4,
 "nbformat_minor": 4
}
