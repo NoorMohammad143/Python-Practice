{
 "cells": [
  {
   "cell_type": "markdown",
   "metadata": {},
   "source": [
    "### Tasks:\n",
    "- To check wheather given number is positive number or negative number ?\n",
    "    - first you have to read a number from user\n",
    "    - then write logic to check that number is positive or not\n",
    "- To check wheather given number is even number or not ?\n",
    "- To check wheather given year is leap year or not?\n",
    "- To check wheather given character is vowel or consonant?\n",
    "- To check wheather given two values are eqaul or not?\n",
    "- To find biggest of two numbers?\n",
    "- To find the biggest of three numbers?\n",
    "- To calculate the student grading system?\n",
    "- To print the 1 to n natural numbers in increment order?\n",
    "- To print the 1 to n natural numbers in decrement order?\n",
    "- To print the sum of 1 to n natural numbers?\n",
    "- To print the even numbers between 1 to n natural numbers?\n",
    "- To print the odd numbers between 1 to n natural numbers?\n",
    "- To print the sum of even natural numbers?\n",
    "- To print the sum of odd natural numbers?\n"
   ]
  },
  {
   "cell_type": "code",
   "execution_count": 3,
   "metadata": {},
   "outputs": [
    {
     "name": "stdout",
     "output_type": "stream",
     "text": [
      "enter a number:-143\n",
      "negative number\n"
     ]
    }
   ],
   "source": [
    "# wheather given number is positive number or negative number ?\n",
    "n=int(input('enter a number:'))\n",
    "if (n>=0):\n",
    "    print(\"positive number\")\n",
    "else:\n",
    "    print(\"negative number\")"
   ]
  },
  {
   "cell_type": "code",
   "execution_count": 5,
   "metadata": {},
   "outputs": [
    {
     "name": "stdout",
     "output_type": "stream",
     "text": [
      "enter a number:143\n",
      "odd number\n"
     ]
    }
   ],
   "source": [
    "# To check wheather given number is even number or not \n",
    "n=int(input('enter a number:'))\n",
    "if (n%2==0):\n",
    "    print('even number')\n",
    "else:\n",
    "    print('odd number')"
   ]
  },
  {
   "cell_type": "code",
   "execution_count": 7,
   "metadata": {},
   "outputs": [],
   "source": [
    "# wheather given number is positive number or negative number using functions\n",
    "def isPositiveNum(n):\n",
    "    if n>=0:\n",
    "        return True\n",
    "    else:\n",
    "        return False"
   ]
  },
  {
   "cell_type": "code",
   "execution_count": 10,
   "metadata": {},
   "outputs": [
    {
     "name": "stdout",
     "output_type": "stream",
     "text": [
      "-1\n",
      "False\n"
     ]
    }
   ],
   "source": [
    "a=int(input())\n",
    "m=isPositiveNum(a)\n",
    "print(m)"
   ]
  },
  {
   "cell_type": "code",
   "execution_count": 8,
   "metadata": {},
   "outputs": [
    {
     "name": "stdout",
     "output_type": "stream",
     "text": [
      "143\n",
      "False\n"
     ]
    }
   ],
   "source": [
    "# To check wheather given number is even number or not \n",
    "def isEvenNum(n):\n",
    "    if n%2==0:\n",
    "        return True\n",
    "    else:\n",
    "        return False\n",
    "\n",
    "a=int(input())\n",
    "m=isEvenNum(a)\n",
    "print(m)"
   ]
  },
  {
   "cell_type": "code",
   "execution_count": null,
   "metadata": {},
   "outputs": [
    {
     "name": "stdout",
     "output_type": "stream",
     "text": [
      "enter a range:10\n"
     ]
    }
   ],
   "source": [
    "# To print the sum of even natural numbers\n",
    "num = int(input(\"enter a range:\"))\n",
    "sm = 0\n",
    "for i in range(2,num+1):\n",
    "    if isEven(i):\n",
    "        sm += i\n"
   ]
  },
  {
   "cell_type": "code",
   "execution_count": null,
   "metadata": {},
   "outputs": [],
   "source": [
    "\n",
    "# To print the sum of odd natural numbers?\n",
    "num = int(input(\"enter a range:\"))\n",
    "sm = 0\n",
    "for i in range(1,num+1):\n",
    "    if isEven(i):\n",
    "        continue\n",
    "    else:\n",
    "        sm += i\n",
    "        \n",
    "print(sm)"
   ]
  },
  {
   "cell_type": "code",
   "execution_count": 19,
   "metadata": {},
   "outputs": [],
   "source": [
    "# To print the sum of n natural numbers?\n",
    "def sumOfNNaturalNums(n):\n",
    "    sum = 0\n",
    "    for i in range(1,n+1):\n",
    "        sum += i\n",
    "    return sum"
   ]
  },
  {
   "cell_type": "code",
   "execution_count": 6,
   "metadata": {},
   "outputs": [
    {
     "name": "stdout",
     "output_type": "stream",
     "text": [
      "enter a range:10\n",
      "55\n"
     ]
    }
   ],
   "source": [
    "x = int(input('enter a range:'))\n",
    "rs = sumOfNNaturalNums(x)\n",
    "print(rs)"
   ]
  },
  {
   "cell_type": "code",
   "execution_count": 5,
   "metadata": {},
   "outputs": [],
   "source": [
    "# To print the product of n natural numbers?\n",
    "def productionOfNNaturalNums(n):\n",
    "    sum=1\n",
    "    for i in range(1,n+1):\n",
    "        sum *=i\n",
    "    return sum"
   ]
  },
  {
   "cell_type": "code",
   "execution_count": 7,
   "metadata": {},
   "outputs": [
    {
     "name": "stdout",
     "output_type": "stream",
     "text": [
      "enter a range:10\n",
      "3628800\n"
     ]
    }
   ],
   "source": [
    "x=int(input('enter a range:'))\n",
    "y=productionOfNNaturalNums(x)\n",
    "print(y)"
   ]
  },
  {
   "cell_type": "code",
   "execution_count": 10,
   "metadata": {},
   "outputs": [
    {
     "name": "stdout",
     "output_type": "stream",
     "text": [
      "enter a character:n\n",
      "ch is constant\n"
     ]
    }
   ],
   "source": [
    "# To check wheather given charecter is vowel or consonant?\n",
    "n=input(\"enter a character:\")\n",
    "if(n == 'a' or n == 'e' or n == 'i' or n == 'o' or n == 'u' or n == 'A' or n == 'E' or n == 'I' or n == 'O' or n == 'U'):\n",
    "    print(\"ch is vowel\")\n",
    "else:\n",
    "    print(\"ch is constant\")"
   ]
  },
  {
   "cell_type": "code",
   "execution_count": 14,
   "metadata": {},
   "outputs": [],
   "source": [
    "li = ['a','e','i','o','u','A','E','I','O','U']\n",
    "def isVowel(ch):\n",
    "    if ch in li:\n",
    "        return True\n",
    "    else:\n",
    "        return False\n"
   ]
  },
  {
   "cell_type": "code",
   "execution_count": 16,
   "metadata": {},
   "outputs": [
    {
     "name": "stdout",
     "output_type": "stream",
     "text": [
      "enter a char:N\n",
      "False\n"
     ]
    }
   ],
   "source": [
    "ch = input(\"enter a char:\")\n",
    "print(isVowel(ch))"
   ]
  },
  {
   "cell_type": "code",
   "execution_count": 2,
   "metadata": {},
   "outputs": [],
   "source": [
    "# To check wheather given year is leap year or not?\n",
    "def isLeap(n):\n",
    "    if (n%4==0):\n",
    "        return True\n",
    "    else:\n",
    "        return False"
   ]
  },
  {
   "cell_type": "code",
   "execution_count": 3,
   "metadata": {},
   "outputs": [
    {
     "name": "stdout",
     "output_type": "stream",
     "text": [
      "enter a year:1996\n",
      "True\n"
     ]
    }
   ],
   "source": [
    "n=int(input('enter a year:'))\n",
    "print(isLeap(n))"
   ]
  },
  {
   "cell_type": "code",
   "execution_count": 4,
   "metadata": {},
   "outputs": [],
   "source": [
    "# To check wheather given two values are eqaul or not?\n",
    "def isEqual(x,y):\n",
    "    if (x == y):\n",
    "        return True\n",
    "    else:\n",
    "        return False"
   ]
  },
  {
   "cell_type": "code",
   "execution_count": 5,
   "metadata": {},
   "outputs": [
    {
     "name": "stdout",
     "output_type": "stream",
     "text": [
      "enter a number1:10\n",
      "enter a number2:20\n",
      "False\n"
     ]
    }
   ],
   "source": [
    "n=int(input('enter a number1:'))\n",
    "m=int(input('enter a number2:'))\n",
    "print(isEqual(n,m))"
   ]
  },
  {
   "cell_type": "code",
   "execution_count": 7,
   "metadata": {},
   "outputs": [
    {
     "name": "stdout",
     "output_type": "stream",
     "text": [
      "enter a number:3\n",
      "enter a number:25\n",
      "False\n"
     ]
    }
   ],
   "source": [
    "# To find biggest of two numbers?\n",
    "def isBig(a,b):\n",
    "    if (a>b):\n",
    "        return True\n",
    "    else:\n",
    "        return False\n",
    "\n",
    "x=int(input('enter a number:'))\n",
    "y=int(input('enter a number:'))\n",
    "print(isBig(x,y))\n"
   ]
  },
  {
   "cell_type": "code",
   "execution_count": 13,
   "metadata": {},
   "outputs": [
    {
     "name": "stdout",
     "output_type": "stream",
     "text": [
      "enter number1:10\n",
      "enter number2:20\n",
      "enter number3:30\n",
      "c is big\n",
      "None\n"
     ]
    }
   ],
   "source": [
    "# To find the biggest of three numbers?\n",
    "def isLarge(a,b,c):\n",
    "    if (a>b):\n",
    "        print('a is big')\n",
    "    elif(b>c):\n",
    "        print('b is big')\n",
    "    else:\n",
    "        print('c is big')\n",
    "        \n",
    "x=int(input('enter number1:'))\n",
    "y=int(input('enter number2:'))\n",
    "z=int(input('enter number3:'))\n",
    "print(isLarge(x,y,z))"
   ]
  },
  {
   "cell_type": "code",
   "execution_count": null,
   "metadata": {},
   "outputs": [],
   "source": [
    "# To print the 1 to n natural numbers in increment order?\n",
    "x=int(input('enter a number:'))\n",
    "print(nNaturalNums(x))\n",
    "\n",
    "def nNaturalNums(n):\n",
    "    for i in range(1,n+1):\n",
    "        return n"
   ]
  },
  {
   "cell_type": "code",
   "execution_count": null,
   "metadata": {},
   "outputs": [],
   "source": []
  }
 ],
 "metadata": {
  "kernelspec": {
   "display_name": "Python 3",
   "language": "python",
   "name": "python3"
  },
  "language_info": {
   "codemirror_mode": {
    "name": "ipython",
    "version": 3
   },
   "file_extension": ".py",
   "mimetype": "text/x-python",
   "name": "python",
   "nbconvert_exporter": "python",
   "pygments_lexer": "ipython3",
   "version": "3.7.4"
  }
 },
 "nbformat": 4,
 "nbformat_minor": 4
}
