{
 "cells": [
  {
   "cell_type": "markdown",
   "metadata": {},
   "source": [
    "## Functions\n",
    "- it is set of statements\n",
    "- used to perform a particular task or it perform spefic task\n",
    "- reuse the code or we can use same function many times\n",
    "- we can pass arguments and we can return result\n",
    "- we have 2 diff types\n",
    "     - userdefined function\n",
    "     - predefined or libary or bulitin function\n",
    "### User Defined Function:\n",
    "     - user can define his own functionality\n",
    "     - synat\n",
    "     \n",
    "         ``` def function_name(param1,param2,.....,):\n",
    "                 # body of the loop\n",
    "     - we cam implement this UserDefined function in 4 diff ways\n",
    "     - those are:  \n",
    "         - no arguments and no return value.\n",
    "         - no argument and a return value.\n",
    "         - with argumnet and no return value.\n",
    "         - with argument and a reurn value."
   ]
  },
  {
   "cell_type": "code",
   "execution_count": 1,
   "metadata": {},
   "outputs": [],
   "source": [
    "# no arguments and no return value\n",
    "\n",
    "def hello():\n",
    "    print('Hi , i am from hello()')"
   ]
  },
  {
   "cell_type": "code",
   "execution_count": 2,
   "metadata": {},
   "outputs": [
    {
     "name": "stdout",
     "output_type": "stream",
     "text": [
      "Hi , i am from hello()\n"
     ]
    }
   ],
   "source": [
    "hello()"
   ]
  },
  {
   "cell_type": "code",
   "execution_count": 3,
   "metadata": {},
   "outputs": [],
   "source": [
    "# no argument and a return value\n",
    "def Hello1():\n",
    "    return 'i am from Hello1'"
   ]
  },
  {
   "cell_type": "code",
   "execution_count": 4,
   "metadata": {},
   "outputs": [
    {
     "data": {
      "text/plain": [
       "'i am from Hello1'"
      ]
     },
     "execution_count": 4,
     "metadata": {},
     "output_type": "execute_result"
    }
   ],
   "source": [
    "Hello1()"
   ]
  },
  {
   "cell_type": "code",
   "execution_count": 5,
   "metadata": {},
   "outputs": [],
   "source": [
    "# with argumnet and no return value\n",
    "def add(n1,n2):\n",
    "    print('sum of n1 and n2 is:',n1+n2)"
   ]
  },
  {
   "cell_type": "code",
   "execution_count": 6,
   "metadata": {},
   "outputs": [
    {
     "name": "stdout",
     "output_type": "stream",
     "text": [
      "sum of n1 and n2 is: 100\n"
     ]
    }
   ],
   "source": [
    "add(45,55)"
   ]
  },
  {
   "cell_type": "code",
   "execution_count": 7,
   "metadata": {},
   "outputs": [
    {
     "name": "stdout",
     "output_type": "stream",
     "text": [
      "sum of n1 and n2 is: 150\n"
     ]
    }
   ],
   "source": [
    "a,b=143,7\n",
    "add(a,b)"
   ]
  },
  {
   "cell_type": "code",
   "execution_count": 8,
   "metadata": {},
   "outputs": [],
   "source": [
    "# with argument and a reurn value\n",
    "def mul(x1,x2):\n",
    "    return x1*x2"
   ]
  },
  {
   "cell_type": "code",
   "execution_count": 9,
   "metadata": {},
   "outputs": [
    {
     "data": {
      "text/plain": [
       "20"
      ]
     },
     "execution_count": 9,
     "metadata": {},
     "output_type": "execute_result"
    }
   ],
   "source": [
    "n1,n2=5,4\n",
    "mul(n1,n2)"
   ]
  },
  {
   "cell_type": "code",
   "execution_count": 10,
   "metadata": {},
   "outputs": [],
   "source": [
    "# implement function on all arthmetic operators\n",
    "def add(n1,n2):\n",
    "    return n1+n2\n",
    "\n",
    "def sub(n1,n2):\n",
    "    return n1-n2\n",
    "\n",
    "def mul(x1,x2):\n",
    "    return x1*x2\n",
    "\n",
    "def div(n1,n2):\n",
    "    return n1/n1"
   ]
  },
  {
   "cell_type": "code",
   "execution_count": 11,
   "metadata": {},
   "outputs": [
    {
     "name": "stdout",
     "output_type": "stream",
     "text": [
      "5\n",
      "2\n",
      "7\n",
      "1.0\n"
     ]
    }
   ],
   "source": [
    "v1=int(input())\n",
    "v2=int(input())\n",
    "rs1=add(v1,v2)\n",
    "print(rs1)\n",
    "rs1=div(v1,v2)\n",
    "print(rs1)"
   ]
  },
  {
   "cell_type": "markdown",
   "metadata": {},
   "source": [
    "### Predefined Function\n",
    "- already implements in programming\n",
    "- Pow,range\n",
    "- print,input,type,chr,ord,help,abs,float,int,str,max,"
   ]
  },
  {
   "cell_type": "code",
   "execution_count": null,
   "metadata": {},
   "outputs": [],
   "source": []
  }
 ],
 "metadata": {
  "kernelspec": {
   "display_name": "Python 3",
   "language": "python",
   "name": "python3"
  },
  "language_info": {
   "codemirror_mode": {
    "name": "ipython",
    "version": 3
   },
   "file_extension": ".py",
   "mimetype": "text/x-python",
   "name": "python",
   "nbconvert_exporter": "python",
   "pygments_lexer": "ipython3",
   "version": "3.7.4"
  }
 },
 "nbformat": 4,
 "nbformat_minor": 4
}
