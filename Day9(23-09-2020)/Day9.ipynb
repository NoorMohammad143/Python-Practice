{
 "cells": [
  {
   "cell_type": "markdown",
   "metadata": {},
   "source": [
    "## Data Structure\n",
    "- stringd\n",
    "- list\n",
    "- tuple\n",
    "- dictionary\n",
    "\n",
    "### String:\n",
    "    - \" or \"\n",
    "    - combination of characters[alphabets,numbers,special characters]\n",
    "    - Iteration perform[index is applicable]\n",
    "    - slicing can be done (similar to range function)\n",
    "    -"
   ]
  },
  {
   "cell_type": "code",
   "execution_count": 1,
   "metadata": {},
   "outputs": [
    {
     "name": "stdout",
     "output_type": "stream",
     "text": [
      "<class 'str'>\n"
     ]
    }
   ],
   "source": [
    "d='noor'\n",
    "print(type(d))"
   ]
  },
  {
   "cell_type": "code",
   "execution_count": 2,
   "metadata": {},
   "outputs": [
    {
     "name": "stdout",
     "output_type": "stream",
     "text": [
      "<class 'int'>\n"
     ]
    }
   ],
   "source": [
    "r=2\n",
    "print(type(r))"
   ]
  },
  {
   "cell_type": "code",
   "execution_count": 3,
   "metadata": {},
   "outputs": [
    {
     "name": "stdout",
     "output_type": "stream",
     "text": [
      "<class 'tuple'>\n"
     ]
    }
   ],
   "source": [
    "n=1,43\n",
    "print(type(n))"
   ]
  },
  {
   "cell_type": "code",
   "execution_count": 4,
   "metadata": {},
   "outputs": [
    {
     "name": "stdout",
     "output_type": "stream",
     "text": [
      "y\n",
      "y\n"
     ]
    }
   ],
   "source": [
    "y=input()\n",
    "print(y)"
   ]
  },
  {
   "cell_type": "code",
   "execution_count": null,
   "metadata": {},
   "outputs": [],
   "source": [
    "m='noor md'\n",
    "m.noor"
   ]
  },
  {
   "cell_type": "code",
   "execution_count": null,
   "metadata": {},
   "outputs": [],
   "source": [
    "p = \"kumar\"\n",
    "0  1   2  3  4 -->\n",
    "k  u   m  a  r\n",
    "-5 -4 -3 -2 -1 <--  "
   ]
  },
  {
   "cell_type": "code",
   "execution_count": 9,
   "metadata": {},
   "outputs": [
    {
     "name": "stdout",
     "output_type": "stream",
     "text": [
      "u\n",
      "a\n"
     ]
    }
   ],
   "source": [
    "print(p[1])\n",
    "print(p[3])"
   ]
  },
  {
   "cell_type": "code",
   "execution_count": 11,
   "metadata": {},
   "outputs": [
    {
     "name": "stdout",
     "output_type": "stream",
     "text": [
      "k\n",
      "u\n",
      "m\n",
      "a\n",
      "r\n"
     ]
    }
   ],
   "source": [
    "for m in p:\n",
    "    print(m)"
   ]
  },
  {
   "cell_type": "code",
   "execution_count": 12,
   "metadata": {},
   "outputs": [
    {
     "name": "stdout",
     "output_type": "stream",
     "text": [
      "0\n",
      "1\n",
      "2\n",
      "3\n",
      "4\n"
     ]
    }
   ],
   "source": [
    "for m in range(len(p)):\n",
    "    print(m)"
   ]
  },
  {
   "cell_type": "code",
   "execution_count": 13,
   "metadata": {},
   "outputs": [
    {
     "name": "stdout",
     "output_type": "stream",
     "text": [
      "a\n"
     ]
    }
   ],
   "source": [
    "for m in range(len(p)):\n",
    "    if m == 3:\n",
    "        print(p[m])"
   ]
  },
  {
   "cell_type": "code",
   "execution_count": 14,
   "metadata": {},
   "outputs": [
    {
     "data": {
      "text/plain": [
       "'kumar'"
      ]
     },
     "execution_count": 14,
     "metadata": {},
     "output_type": "execute_result"
    }
   ],
   "source": [
    "p"
   ]
  },
  {
   "cell_type": "code",
   "execution_count": 15,
   "metadata": {},
   "outputs": [
    {
     "data": {
      "text/plain": [
       "'kumar'"
      ]
     },
     "execution_count": 15,
     "metadata": {},
     "output_type": "execute_result"
    }
   ],
   "source": [
    "p[:]"
   ]
  },
  {
   "cell_type": "code",
   "execution_count": null,
   "metadata": {},
   "outputs": [],
   "source": [
    "p[index]\n",
    "p[start:] -->p[1:]\n",
    "p[:end] -->p[:2]\n",
    "p[start:end] -->0th index\n",
    "p[start:ens:stepping] -->for step"
   ]
  },
  {
   "cell_type": "code",
   "execution_count": 21,
   "metadata": {},
   "outputs": [
    {
     "name": "stdout",
     "output_type": "stream",
     "text": [
      "13\n",
      "M\n",
      "h\n",
      "or Mohammad\n",
      "mad\n",
      "Noor Moha\n",
      "Noor Moh\n",
      "Noor Mohammad\n"
     ]
    }
   ],
   "source": [
    "m=\"Noor Mohammad\"\n",
    "print(len(m))\n",
    "print(m[5])\n",
    "print(m[-6])\n",
    "print(m[2:])\n",
    "print(m[-3:])\n",
    "print(m[:9])\n",
    "print(m[:-5])\n",
    "print(m[:])"
   ]
  },
  {
   "cell_type": "code",
   "execution_count": 35,
   "metadata": {},
   "outputs": [
    {
     "name": "stdout",
     "output_type": "stream",
     "text": [
      "Noor Mohammad\n",
      "r Mohammad\n",
      "Noor Moh\n",
      " Moham\n",
      "mmad\n",
      "Noor Moham\n",
      "or Mo\n",
      "\n",
      "\n",
      "oMaa\n"
     ]
    }
   ],
   "source": [
    "print(m)\n",
    "print(m[3::])\n",
    "print(m[:8:])\n",
    "print(m[4:10:])\n",
    "print(m[-4::])\n",
    "print(m[:-3:])\n",
    "print(m[2:-6:])\n",
    "print(m[-2:-7:]) #No output\n",
    "print(m[-1:2:])  #No output\n",
    "print(m[2::3])"
   ]
  },
  {
   "cell_type": "code",
   "execution_count": 50,
   "metadata": {},
   "outputs": [
    {
     "name": "stdout",
     "output_type": "stream",
     "text": [
      "Noor Mohammad\n",
      "oMaa\n",
      " oN\n",
      "hm\n",
      "\n",
      "mM\n",
      "mM\n"
     ]
    }
   ],
   "source": [
    "print(m)\n",
    "print(m[2::3])\n",
    "print(m[4::-2])\n",
    "print(m[7:11:3])\n",
    "print(m[2:10:-4]) #No output\n",
    "print(m[9:-10:-4])\n",
    "print(m[-3:4:-5])"
   ]
  },
  {
   "cell_type": "code",
   "execution_count": 51,
   "metadata": {},
   "outputs": [
    {
     "name": "stdout",
     "output_type": "stream",
     "text": [
      "['__add__', '__class__', '__contains__', '__delattr__', '__dir__', '__doc__', '__eq__', '__format__', '__ge__', '__getattribute__', '__getitem__', '__getnewargs__', '__gt__', '__hash__', '__init__', '__init_subclass__', '__iter__', '__le__', '__len__', '__lt__', '__mod__', '__mul__', '__ne__', '__new__', '__reduce__', '__reduce_ex__', '__repr__', '__rmod__', '__rmul__', '__setattr__', '__sizeof__', '__str__', '__subclasshook__', 'capitalize', 'casefold', 'center', 'count', 'encode', 'endswith', 'expandtabs', 'find', 'format', 'format_map', 'index', 'isalnum', 'isalpha', 'isascii', 'isdecimal', 'isdigit', 'isidentifier', 'islower', 'isnumeric', 'isprintable', 'isspace', 'istitle', 'isupper', 'join', 'ljust', 'lower', 'lstrip', 'maketrans', 'partition', 'replace', 'rfind', 'rindex', 'rjust', 'rpartition', 'rsplit', 'rstrip', 'split', 'splitlines', 'startswith', 'strip', 'swapcase', 'title', 'translate', 'upper', 'zfill']\n"
     ]
    }
   ],
   "source": [
    "print(dir(str))"
   ]
  },
  {
   "cell_type": "code",
   "execution_count": null,
   "metadata": {},
   "outputs": [],
   "source": []
  }
 ],
 "metadata": {
  "kernelspec": {
   "display_name": "Python 3",
   "language": "python",
   "name": "python3"
  },
  "language_info": {
   "codemirror_mode": {
    "name": "ipython",
    "version": 3
   },
   "file_extension": ".py",
   "mimetype": "text/x-python",
   "name": "python",
   "nbconvert_exporter": "python",
   "pygments_lexer": "ipython3",
   "version": "3.7.4"
  }
 },
 "nbformat": 4,
 "nbformat_minor": 4
}
