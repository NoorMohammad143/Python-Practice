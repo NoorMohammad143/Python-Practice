{
 "cells": [
  {
   "cell_type": "markdown",
   "metadata": {},
   "source": [
    "# Files:\n",
    "    - To store the data permanently\n",
    "    - .txt, .doc , .csv , .py , .java , .c\n",
    "    - open(),close()\n",
    "    - with[does not have to close a file]\n",
    "    - filepath,mode\n",
    "    - mode:\n",
    "        - r -> read(file doesn't exist in location it shows an error)\n",
    "        - w -> write(file doesn't exist in location it automatically creates a file. It performs an action, It removes the previous data from a file and it appends the present data)\n",
    "        - a -> append(file doesn't exist in location it automatically creates a file. It performs an action, It doesn't removes the previous data)\n",
    "        - x -> create(It create a file in a location. If it exists with a name it doesn't create a file with same name)\n",
    "    - with open(filepath,mode) as filepointer:\n",
    "            filepointer,actions"
   ]
  },
  {
   "cell_type": "code",
   "execution_count": 1,
   "metadata": {},
   "outputs": [
    {
     "name": "stdout",
     "output_type": "stream",
     "text": [
      "python\n"
     ]
    }
   ],
   "source": [
    "k=\"python\"\n",
    "print(k)"
   ]
  },
  {
   "cell_type": "code",
   "execution_count": null,
   "metadata": {},
   "outputs": [],
   "source": []
  },
  {
   "cell_type": "code",
   "execution_count": 7,
   "metadata": {},
   "outputs": [],
   "source": [
    "with open(\"DataFiles/sample.txt\",\"w\") as fw:\n",
    "    fw.write(\"WElcome to APSSDC Internship program \\n\")\n",
    "    fw.write(\"Hi,Good Morning \")"
   ]
  },
  {
   "cell_type": "code",
   "execution_count": 8,
   "metadata": {},
   "outputs": [],
   "source": [
    "with open(\"DataFiles/sample.txt\",\"r\") as fr:\n",
    "    fr.read()"
   ]
  },
  {
   "cell_type": "code",
   "execution_count": 10,
   "metadata": {},
   "outputs": [
    {
     "name": "stdout",
     "output_type": "stream",
     "text": [
      "['WElcome to APSSDC Internship program \\n', 'Hi,Good Morning ']\n"
     ]
    }
   ],
   "source": [
    "with open(\"DataFiles/sample.txt\",\"r\") as fr:\n",
    "    print(fr.readlines())"
   ]
  },
  {
   "cell_type": "code",
   "execution_count": 6,
   "metadata": {},
   "outputs": [
    {
     "name": "stdout",
     "output_type": "stream",
     "text": [
      "['_CHUNK_SIZE', '__class__', '__del__', '__delattr__', '__dict__', '__dir__', '__doc__', '__enter__', '__eq__', '__exit__', '__format__', '__ge__', '__getattribute__', '__getstate__', '__gt__', '__hash__', '__init__', '__init_subclass__', '__iter__', '__le__', '__lt__', '__ne__', '__new__', '__next__', '__reduce__', '__reduce_ex__', '__repr__', '__setattr__', '__sizeof__', '__str__', '__subclasshook__', '_checkClosed', '_checkReadable', '_checkSeekable', '_checkWritable', '_finalizing', 'buffer', 'close', 'closed', 'detach', 'encoding', 'errors', 'fileno', 'flush', 'isatty', 'line_buffering', 'mode', 'name', 'newlines', 'read', 'readable', 'readline', 'readlines', 'reconfigure', 'seek', 'seekable', 'tell', 'truncate', 'writable', 'write', 'write_through', 'writelines']\n"
     ]
    }
   ],
   "source": [
    "print(dir(fw))"
   ]
  },
  {
   "cell_type": "code",
   "execution_count": 12,
   "metadata": {},
   "outputs": [],
   "source": [
    "with open(\"DataFiles/sample.txt\",\"a\") as fa:\n",
    "    fa.write(\"\\nThis is sample line\")"
   ]
  },
  {
   "cell_type": "code",
   "execution_count": 13,
   "metadata": {},
   "outputs": [
    {
     "ename": "FileExistsError",
     "evalue": "[Errno 17] File exists: 'DataFiles/sample.txt'",
     "output_type": "error",
     "traceback": [
      "\u001b[1;31m---------------------------------------------------------------------------\u001b[0m",
      "\u001b[1;31mFileExistsError\u001b[0m                           Traceback (most recent call last)",
      "\u001b[1;32m<ipython-input-13-b6808c90fc86>\u001b[0m in \u001b[0;36m<module>\u001b[1;34m\u001b[0m\n\u001b[1;32m----> 1\u001b[1;33m \u001b[1;32mwith\u001b[0m \u001b[0mopen\u001b[0m\u001b[1;33m(\u001b[0m\u001b[1;34m\"DataFiles/sample.txt\"\u001b[0m\u001b[1;33m,\u001b[0m\u001b[1;34m\"x\"\u001b[0m\u001b[1;33m)\u001b[0m \u001b[1;32mas\u001b[0m \u001b[0mfx\u001b[0m\u001b[1;33m:\u001b[0m\u001b[1;33m\u001b[0m\u001b[1;33m\u001b[0m\u001b[0m\n\u001b[0m\u001b[0;32m      2\u001b[0m     \u001b[0mfx\u001b[0m\u001b[1;33m.\u001b[0m\u001b[0mwrite\u001b[0m\u001b[1;33m(\u001b[0m\u001b[1;34m\"\\nThis is sample line\"\u001b[0m\u001b[1;33m)\u001b[0m\u001b[1;33m\u001b[0m\u001b[1;33m\u001b[0m\u001b[0m\n",
      "\u001b[1;31mFileExistsError\u001b[0m: [Errno 17] File exists: 'DataFiles/sample.txt'"
     ]
    }
   ],
   "source": [
    "with open(\"DataFiles/sample.txt\",\"x\") as fx:\n",
    "    fx.write(\"\\nThis is sample line\")"
   ]
  },
  {
   "cell_type": "raw",
   "metadata": {},
   "source": [
    " Addition of 2 numbers by using files concept\n",
    "Input:Input.txt\n",
    "    1 2\n",
    "    4 5\n",
    "Output:Output.txt\n",
    "    3\n",
    "    9"
   ]
  },
  {
   "cell_type": "code",
   "execution_count": 18,
   "metadata": {},
   "outputs": [
    {
     "name": "stdout",
     "output_type": "stream",
     "text": [
      "1 2\n"
     ]
    }
   ],
   "source": [
    "with open(\"DataFiles/Input.txt\",\"w\") as fww:\n",
    "    k=input()\n",
    "    fww.write(k+\"\\n\")"
   ]
  },
  {
   "cell_type": "code",
   "execution_count": 19,
   "metadata": {},
   "outputs": [
    {
     "name": "stdout",
     "output_type": "stream",
     "text": [
      "4 5\n"
     ]
    }
   ],
   "source": [
    "with open(\"DataFiles/Input.txt\",\"a\") as faa:\n",
    "    k=input()\n",
    "    faa.write(k+\"\\n\")"
   ]
  },
  {
   "cell_type": "code",
   "execution_count": 20,
   "metadata": {},
   "outputs": [
    {
     "name": "stdout",
     "output_type": "stream",
     "text": [
      "1 2\n",
      "\n",
      "4 5\n",
      "\n"
     ]
    }
   ],
   "source": [
    "with open(\"DataFiles/Input.txt\",\"r\") as frr:\n",
    "    p=frr.readlines()\n",
    "    for i in p:\n",
    "        print(i)"
   ]
  },
  {
   "cell_type": "code",
   "execution_count": 23,
   "metadata": {},
   "outputs": [
    {
     "name": "stdout",
     "output_type": "stream",
     "text": [
      "['1 2', '']\n",
      "['4 5', '']\n"
     ]
    }
   ],
   "source": [
    "with open(\"DataFiles/Input.txt\",\"r\") as frr:\n",
    "    p=frr.readlines()\n",
    "    for i in p:\n",
    "        mn=i.split(\"\\n\")\n",
    "        print(mn)"
   ]
  },
  {
   "cell_type": "code",
   "execution_count": 25,
   "metadata": {},
   "outputs": [
    {
     "name": "stdout",
     "output_type": "stream",
     "text": [
      "['1', '2']\n",
      "['4', '5']\n"
     ]
    }
   ],
   "source": [
    "with open(\"DataFiles/Input.txt\",\"r\") as frr:\n",
    "    p=frr.readlines()\n",
    "    for i in p:\n",
    "        mn=i.split(\"\\n\")[0]\n",
    "        j=mn.split()\n",
    "        print(j)"
   ]
  },
  {
   "cell_type": "code",
   "execution_count": 31,
   "metadata": {},
   "outputs": [],
   "source": [
    "with open(\"DataFiles/Input.txt\",\"r\") as frr:\n",
    "    p=frr.readlines()\n",
    "    for i in p:\n",
    "        mn=i.split(\"\\n\")[0]\n",
    "        j=mn.split()\n",
    "        with open(\"DataFiles/Output.txt\",\"a\") as fww:\n",
    "            s=int(j[0])+int(j[1])\n",
    "   #         print(s)\n",
    "            fww.write(str(s)+\"\\n\")"
   ]
  },
  {
   "cell_type": "code",
   "execution_count": 21,
   "metadata": {},
   "outputs": [
    {
     "name": "stdout",
     "output_type": "stream",
     "text": [
      "3 4 5 6\n",
      "3 4 5 6\n"
     ]
    }
   ],
   "source": [
    "e=input()\n",
    "print(e)"
   ]
  },
  {
   "cell_type": "code",
   "execution_count": 22,
   "metadata": {},
   "outputs": [
    {
     "name": "stdout",
     "output_type": "stream",
     "text": [
      "2\n",
      "0\n",
      "1\n"
     ]
    }
   ],
   "source": [
    "r=input()\n",
    "for i in range(int(r)):\n",
    "    print(i)"
   ]
  },
  {
   "cell_type": "code",
   "execution_count": null,
   "metadata": {},
   "outputs": [],
   "source": []
  }
 ],
 "metadata": {
  "kernelspec": {
   "display_name": "Python 3",
   "language": "python",
   "name": "python3"
  },
  "language_info": {
   "codemirror_mode": {
    "name": "ipython",
    "version": 3
   },
   "file_extension": ".py",
   "mimetype": "text/x-python",
   "name": "python",
   "nbconvert_exporter": "python",
   "pygments_lexer": "ipython3",
   "version": "3.7.4"
  }
 },
 "nbformat": 4,
 "nbformat_minor": 4
}
