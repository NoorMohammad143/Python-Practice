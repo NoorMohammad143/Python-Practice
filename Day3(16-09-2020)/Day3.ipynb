{
 "cells": [
  {
   "cell_type": "markdown",
   "metadata": {},
   "source": [
    "# Today Concepts\n",
    "## 16-09-2020\n",
    "### jupyter installation\n",
    "\n",
    "- to install jupyter we have to rin a cmd pip install jupyter\n",
    "- to open jupyter notebook we have to run a cmd in command prompt i.e,jupyter notebook\n",
    "\n",
    "### Main Heading\n",
    "  - ####sub heading1\n",
    "     - ## sub heading2\n",
    "     \n",
    "<h2>i am h2 tag</h2>\n",
    "<p>i am p tag</p>\n",
    "<a href=''>i am <a> tag</a>\n",
    "<img src='pythonLogo.png'>\n",
    "<table border='1'>\n",
    "    <tr><td>Noor</td><td>Gudivada</td></tr>\n",
    "     <tr><td>Firdoze</td><td>Vuyuru</td></tr>\n",
    "</table>"
   ]
  },
  {
   "cell_type": "code",
   "execution_count": 1,
   "metadata": {},
   "outputs": [
    {
     "name": "stdout",
     "output_type": "stream",
     "text": [
      "Hi hello\n",
      "I am using jupyter notebook\n",
      "I am from APSSDC\n"
     ]
    },
    {
     "data": {
      "text/plain": [
       "60"
      ]
     },
     "execution_count": 1,
     "metadata": {},
     "output_type": "execute_result"
    }
   ],
   "source": [
    "print(\"Hi hello\")\n",
    "print('I am using jupyter notebook')\n",
    "4+7\n",
    "print('I am from APSSDC')\n",
    "56+4"
   ]
  },
  {
   "cell_type": "code",
   "execution_count": null,
   "metadata": {},
   "outputs": [],
   "source": []
  }
 ],
 "metadata": {
  "kernelspec": {
   "display_name": "Python 3",
   "language": "python",
   "name": "python3"
  },
  "language_info": {
   "codemirror_mode": {
    "name": "ipython",
    "version": 3
   },
   "file_extension": ".py",
   "mimetype": "text/x-python",
   "name": "python",
   "nbconvert_exporter": "python",
   "pygments_lexer": "ipython3",
   "version": "3.7.4"
  }
 },
 "nbformat": 4,
 "nbformat_minor": 4
}
