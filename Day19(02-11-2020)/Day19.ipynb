{
 "cells": [
  {
   "cell_type": "markdown",
   "metadata": {},
   "source": [
    "### l = \"Python Programming\"\n",
    "    \n",
    "    # len()\n",
    "    # count = 18\n",
    "    \n",
    "    p ->2 \n",
    "    y ->1\n",
    "    t ->1\n",
    "    h ->1\n",
    "    o ->2\n",
    "    n ->2\n",
    "    # ->1\n",
    "    r ->2\n",
    "    g ->2\n",
    "    a ->1\n",
    "    m ->2\n",
    "    i ->1"
   ]
  },
  {
   "cell_type": "code",
   "execution_count": 1,
   "metadata": {},
   "outputs": [],
   "source": [
    "# find number of characters in a given string\n",
    "# you have to read string from user i.e python prigramming\n",
    "# count=18"
   ]
  },
  {
   "cell_type": "code",
   "execution_count": 3,
   "metadata": {},
   "outputs": [
    {
     "name": "stdout",
     "output_type": "stream",
     "text": [
      "count: 18\n"
     ]
    }
   ],
   "source": [
    "p=\"python programming\"\n",
    "co=0\n",
    "for h in p:\n",
    "    co +=1\n",
    "print(\"count: {}\".format(co))"
   ]
  },
  {
   "cell_type": "markdown",
   "metadata": {},
   "source": [
    "## k = \"daaaaaaabc\"\n",
    "    \n",
    "    d ->1\n",
    "    a ->7\n",
    "    b ->1\n",
    "    c ->1"
   ]
  },
  {
   "cell_type": "markdown",
   "metadata": {},
   "source": [
    "##### m=\"This is python internship program\"\n",
    "#### By using Functions\n",
    "\n",
    "#### words = 5\n",
    "#### no of characters in a word:\n",
    "   #### This => 4\n",
    "   #### is => 2\n",
    "   #### python => 6\n",
    "   #### Internship => 10\n",
    "   #### program => 7\n",
    "   \n",
    "#### characters count => ?\n",
    "#### vowels\n",
    "  #### a -> 1\n",
    "  #### e -> 1\n",
    "  #### i -> 3\n",
    "  #### o -> 2"
   ]
  },
  {
   "cell_type": "code",
   "execution_count": 2,
   "metadata": {},
   "outputs": [
    {
     "name": "stdout",
     "output_type": "stream",
     "text": [
      "daaaaaaabc\n",
      "b => 1\n",
      "a => 7\n",
      "d => 1\n",
      "c => 1\n"
     ]
    }
   ],
   "source": [
    "mn = input()\n",
    "# print(set(mn))\n",
    "for ak in set(mn):\n",
    "    if ak in mn:\n",
    "        print(ak,\"=>\",mn.count(ak))"
   ]
  },
  {
   "cell_type": "code",
   "execution_count": 3,
   "metadata": {},
   "outputs": [
    {
     "name": "stdout",
     "output_type": "stream",
     "text": [
      "daaaabcc"
     ]
    }
   ],
   "source": [
    "mn = \"daaaabcc\"\n",
    "for j in list(mn):\n",
    "    print(j,end=\"\")"
   ]
  },
  {
   "cell_type": "code",
   "execution_count": 4,
   "metadata": {},
   "outputs": [
    {
     "name": "stdout",
     "output_type": "stream",
     "text": [
      "<class 'dict'>\n"
     ]
    }
   ],
   "source": [
    "k = {'a':23,'e':12}\n",
    "print(type(k))"
   ]
  },
  {
   "cell_type": "code",
   "execution_count": 5,
   "metadata": {},
   "outputs": [
    {
     "name": "stdout",
     "output_type": "stream",
     "text": [
      "<class 'set'>\n"
     ]
    }
   ],
   "source": [
    "y = set()\n",
    "print(type(y))"
   ]
  },
  {
   "cell_type": "code",
   "execution_count": 6,
   "metadata": {},
   "outputs": [
    {
     "name": "stdout",
     "output_type": "stream",
     "text": [
      "daaaaaaaaaaaaabbbbbbbbbbbcccc\n",
      "d => 1\n",
      "a => 13\n",
      "b => 11\n",
      "c => 4\n"
     ]
    }
   ],
   "source": [
    "m = input()\n",
    "dq = {}\n",
    "for k in m:\n",
    "    dq[k] = m.count(k)\n",
    "for i,j in dq.items():\n",
    "    print(i,\"=>\",j)"
   ]
  },
  {
   "cell_type": "code",
   "execution_count": null,
   "metadata": {},
   "outputs": [],
   "source": [
    "## 1) WAP to count the number of factors of a given number\n",
    "## 2) WAP to find second largest factor of given number\n",
    "## 3) WAP to find second smallest factor of a given number\n",
    "## 4) WAP to count all the prime nums between 1 to 100\n",
    "## 5) WAP to find sum of all prime nums between 1 to 100\n",
    "## 6) WAP to find largest and smallest prime number between 1 to 100"
   ]
  },
  {
   "cell_type": "code",
   "execution_count": 9,
   "metadata": {},
   "outputs": [
    {
     "name": "stdout",
     "output_type": "stream",
     "text": [
      "6\n",
      "6\n",
      "6\n",
      "6\n",
      "6\n"
     ]
    }
   ],
   "source": [
    "## 1) WAP to count the number of factors of a given number\n",
    "def fact(x):\n",
    "    for i in range(1,x+1):\n",
    "        if(x%i == 0):\n",
    "             print(x)\n",
    "n=int(input())\n",
    "fact(n)"
   ]
  },
  {
   "cell_type": "code",
   "execution_count": 11,
   "metadata": {},
   "outputs": [
    {
     "name": "stdout",
     "output_type": "stream",
     "text": [
      "Enter a number:16\n",
      "The second largest factor number: 8\n"
     ]
    }
   ],
   "source": [
    "## 2) WAP to find second largest factor of given number\n",
    "n=int(input(\"Enter a number:\"))\n",
    "cou=0\n",
    "d=[]\n",
    "for i in range(1,n+1):\n",
    "    if(n%i==0):\n",
    "        cou +=1\n",
    "        d.append(i)\n",
    "print(\"The second largest factor number:\",d[-2])"
   ]
  },
  {
   "cell_type": "code",
   "execution_count": 12,
   "metadata": {},
   "outputs": [
    {
     "name": "stdout",
     "output_type": "stream",
     "text": [
      "Enter a number:16\n",
      "The second smallest factor number: 2\n"
     ]
    }
   ],
   "source": [
    "## 3) WAP to find second smallest factor of a given number\n",
    "n=int(input(\"Enter a number:\"))\n",
    "cou=0\n",
    "d=[]\n",
    "for i in range(1,n+1):\n",
    "    if(n%i==0):\n",
    "        cou +=1\n",
    "        d.append(i)\n",
    "print(\"The second smallest factor number:\",d[1])"
   ]
  },
  {
   "cell_type": "code",
   "execution_count": 14,
   "metadata": {},
   "outputs": [
    {
     "name": "stdout",
     "output_type": "stream",
     "text": [
      "2  3  5  7  11  13  17  19  23  29  31  37  41  43  47  53  59  61  67  71  73  79  83  89  97  "
     ]
    }
   ],
   "source": [
    "## 4) WAP to count all the prime nums between 1 to 100\n",
    "for n in range (1, 101):\n",
    "    count = 0\n",
    "    for i in range(2, (n//2 + 1)):\n",
    "        if(n % i == 0):\n",
    "            count = count + 1\n",
    "            break\n",
    "\n",
    "    if (count == 0 and n != 1):\n",
    "        print(n, end = '  ')"
   ]
  },
  {
   "cell_type": "code",
   "execution_count": null,
   "metadata": {},
   "outputs": [],
   "source": [
    "## 5) WAP to find sum of all prime nums between 1 to 100"
   ]
  }
 ],
 "metadata": {
  "kernelspec": {
   "display_name": "Python 3",
   "language": "python",
   "name": "python3"
  },
  "language_info": {
   "codemirror_mode": {
    "name": "ipython",
    "version": 3
   },
   "file_extension": ".py",
   "mimetype": "text/x-python",
   "name": "python",
   "nbconvert_exporter": "python",
   "pygments_lexer": "ipython3",
   "version": "3.7.4"
  }
 },
 "nbformat": 4,
 "nbformat_minor": 4
}
